{
 "cells": [
  {
   "cell_type": "code",
   "execution_count": 2,
   "metadata": {},
   "outputs": [
    {
     "name": "stdout",
     "output_type": "stream",
     "text": [
      "Checking line segment [0 0] to [0 3] against circle centered at [1 1] with radius 1\n",
      "Discriminant: 0\n",
      "t1: 0.3333333333333333, t2: 0.3333333333333333\n",
      "Intersection detected.\n"
     ]
    },
    {
     "data": {
      "image/png": "[encoded data removed]",
      "text/plain": [
       "<Figure size 640x480 with 1 Axes>"
      ]
     },
     "metadata": {},
     "output_type": "display_data"
    }
   ],
   "source": [
    "import numpy as np\n",
    "import matplotlib.pyplot as plt\n",
    "\n",
    "def line_intersects_circle(p1, p2, center, radius):\n",
    "    \"\"\"\n",
    "    Check if the line segment from p1 to p2 intersects the circle with the given center and radius.\n",
    "    \"\"\"\n",
    "    d = p2 - p1\n",
    "    f = p1 - center\n",
    "    a = np.dot(d, d)\n",
    "    b = 2 * np.dot(f, d)\n",
    "    c = np.dot(f, f) - radius ** 2\n",
    "    discriminant = b ** 2 - 4 * a * c\n",
    "\n",
    "    print(f\"Checking line segment {p1} to {p2} against circle centered at {center} with radius {radius}\")\n",
    "    print(f\"Discriminant: {discriminant}\")\n",
    "\n",
    "    if discriminant < 0:\n",
    "        print(\"No intersection.\")\n",
    "        return False\n",
    "\n",
    "    discriminant = np.sqrt(discriminant)\n",
    "    t1 = (-b - discriminant) / (2 * a)\n",
    "    t2 = (-b + discriminant) / (2 * a)\n",
    "\n",
    "    print(f\"t1: {t1}, t2: {t2}\")\n",
    "\n",
    "    if (0 <= t1 <= 1) or (0 <= t2 <= 1):\n",
    "        print(\"Intersection detected.\")\n",
    "        return True\n",
    "\n",
    "    print(\"No intersection within the line segment.\")\n",
    "\n",
    "    return False\n",
    "\n",
    "def plot_line_and_circle(p1, p2, center, radius):\n",
    "    fig, ax = plt.subplots()\n",
    "    circle = plt.Circle(center, radius, color='r', alpha=0.5)\n",
    "    ax.add_artist(circle)\n",
    "    ax.plot([p1[0], p2[0]], [p1[1], p2[1]], 'b--')\n",
    "    ax.scatter(center[0], center[1], color='r')\n",
    "    ax.scatter([p1[0], p2[0]], [p1[1], p2[1]], color='b')\n",
    "\n",
    "    ax.set_xlim([min(p1[0], p2[0], center[0]) - radius - 1, max(p1[0], p2[0], center[0]) + radius + 1])\n",
    "    ax.set_ylim([min(p1[1], p2[1], center[1]) - radius - 1, max(p1[1], p2[1], center[1]) + radius + 1])\n",
    "    plt.gca().set_aspect('equal', adjustable='box')\n",
    "    plt.show()\n",
    "\n",
    "# Example points and circle for debugging\n",
    "p1 = np.array([0, 0])\n",
    "p2 = np.array([0, 4])\n",
    "center = np.array([1, 1])\n",
    "radius = 1\n",
    "\n",
    "# Check intersection\n",
    "line_intersects_circle(p1, p2, center, radius)\n",
    "\n",
    "# Plot the situation\n",
    "plot_line_and_circle(p1, p2, center, radius)"
   ]
  }
 ],
 "metadata": {
  "kernelspec": {
   "display_name": "Python 3",
   "language": "python",
   "name": "python3"
  },
  "language_info": {
   "codemirror_mode": {
    "name": "ipython",
    "version": 3
   },
   "file_extension": ".py",
   "mimetype": "text/x-python",
   "name": "python",
   "nbconvert_exporter": "python",
   "pygments_lexer": "ipython3",
   "version": "3.11.7"
  }
 },
 "nbformat": 4,
 "nbformat_minor": 2
}
